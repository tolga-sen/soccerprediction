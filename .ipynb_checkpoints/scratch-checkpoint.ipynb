{
 "cells": [
  {
   "cell_type": "code",
   "execution_count": 10,
   "metadata": {},
   "outputs": [],
   "source": [
    "from selenium import webdriver\n",
    "import time\n",
    "import numpy as np\n",
    "\n",
    "DRIVER = webdriver.Chrome('/Users/PaulWlodkowski/Documents/PythonWork/\\\n",
    "SPICED-Work/chromedriver/chromedriver')\n",
    "\n",
    "def get_stats_from_window(driver, handle_number):\n",
    "    driver.switch_to.window(handle_number)\n",
    "    new_link = driver.current_url\n",
    "    statistics1=new_link[:-7]+\"statistics;1\"\n",
    "    time.sleep(2)\n",
    "\n",
    "    try:\n",
    "        driver.get(statistics1)\n",
    "        time.sleep(2)\n",
    "        login_form=driver.find_element_by_xpath('//div[@id=\"tab-statistics-1-statistic\"]')\n",
    "    #    if login_form:\n",
    "        statistics1=login_form.text\n",
    "#         print(statistics1)\n",
    "        with open('half.txt', 'a') as f:\n",
    "            f.write('-----')\n",
    "            f.write(statistics1)\n",
    "            f.write('-----')\n",
    "\n",
    "        new_link = driver.current_url\n",
    "        statistics2=new_link[:-7]+\"statistics;0\"\n",
    "#         print(statistics2)\n",
    "        driver.get(statistics2)\n",
    "        time.sleep(2)\n",
    "        login_form=driver.find_element_by_xpath('//div[@id=\"tab-statistics-0-statistic\"]')\n",
    "        statistics2=login_form.text\n",
    "#         print(statistics2)\n",
    "        with open('end.txt', 'a') as f:\n",
    "            f.write('-----')\n",
    "            f.write(statistics2)\n",
    "            f.write('-----')\n",
    "\n",
    "        new_link = driver.current_url\n",
    "        goals=new_link[:-12]+\"summary\"\n",
    "#         print(goals)\n",
    "        time.sleep(2)\n",
    "        driver.get(goals)\n",
    "        time.sleep(2)\n",
    "        login_form=driver.find_element_by_xpath('//div[@id=\"summary-content\"]')\n",
    "        goals=login_form.text\n",
    "#         print(goals)\n",
    "        with open('goal.txt', 'a') as f:\n",
    "            f.write('-----')\n",
    "            f.write(goals)\n",
    "            f.write('-----')\n",
    "\n",
    "        new_link = driver.current_url\n",
    "        info=new_link[:-12]+\"summary\"\n",
    "#         print(info)\n",
    "        time.sleep(3)\n",
    "        driver.get(info)\n",
    "        time.sleep(3)\n",
    "        login_form=driver.find_element_by_xpath('//td[@id=\"flashscore_column\"]')\n",
    "        info=login_form.text\n",
    "#         print(info)\n",
    "        with open('info.txt', 'a') as f:\n",
    "            f.write('-----')\n",
    "            f.write(info)\n",
    "            f.write('-----')\n",
    "\n",
    "    except:\n",
    "        print(\"No Statistics for this game!!!\")"
   ]
  },
  {
   "cell_type": "code",
   "execution_count": 11,
   "metadata": {},
   "outputs": [
    {
     "name": "stdout",
     "output_type": "stream",
     "text": [
      "Done\n"
     ]
    }
   ],
   "source": [
    "DRIVER.get(\"https://www.soccerstand.com/team/amiens-sc/lKkBAsxF/results/\")\n",
    "# LOCATION = ELEMENT.location\n",
    "\n",
    "time.sleep(2)\n",
    "action = webdriver.common.action_chains.ActionChains(DRIVER)\n",
    "# ELEMENT = DRIVER.find_element_by_class_name('basketball')\n",
    "# ELEMENT = DRIVER.find_element_by_class_name('padr')\n",
    "ELEMENTS = DRIVER.find_elements_by_class_name('padr')\n",
    "# ELEMENT = DRIVER.find_element_by_xpath('//td[@title=\"Click for match detail!\"]')\n",
    "# action.move_to_element(ELEMENT)\n",
    "print('Done')"
   ]
  },
  {
   "cell_type": "markdown",
   "metadata": {},
   "source": [
    "### Observation: it actually matter if the xpath is on the screen! otherwise the automated software wont be able to click it."
   ]
  },
  {
   "cell_type": "code",
   "execution_count": 12,
   "metadata": {},
   "outputs": [],
   "source": [
    "# DRIVER.execute_script(\"arguments[0].scrollIntoView();\", ELEMENTS[0])\n",
    "# DRIVER.execute_script(\"$(arguments[0]).click();\", ELEMENTS[0])\n",
    "\n",
    "# print(f'There are {len(DRIVER.window_handles)} windows:')\n",
    "\n",
    "# start_window = DRIVER.window_handles[0]   \n",
    "# current_window = DRIVER.window_handles[-1]\n",
    "# print(f'Starting window (main page): {start_window}')\n",
    "# print(f'Current window: {current_window}')\n",
    "\n",
    "# # get_stats_from_window(DRIVER, current_window)\n",
    "\n",
    "# DRIVER.switch_to.window(start_window)\n",
    "# DRIVER.close() #closes the current window\n",
    "\n",
    "\n",
    "# print(f'There are {len(DRIVER.window_handles)} windows:')\n",
    "\n",
    "# start_window = DRIVER.window_handles[0]   \n",
    "# current_window = DRIVER.window_handles[-1]\n",
    "# print(f'Starting window (main page): {start_window}')\n",
    "# print(f'Current window: {current_window}')"
   ]
  },
  {
   "cell_type": "code",
   "execution_count": 13,
   "metadata": {},
   "outputs": [
    {
     "name": "stdout",
     "output_type": "stream",
     "text": [
      "<selenium.webdriver.remote.webelement.WebElement (session=\"9615e26ee1fdb2f4362b09b2516f559e\", element=\"00a9ca0b-76d2-4364-a089-5f051f36c3a5\")> Toulouse\n",
      "Successfully wrote data....\n",
      "<selenium.webdriver.remote.webelement.WebElement (session=\"9615e26ee1fdb2f4362b09b2516f559e\", element=\"7d7ca4f1-1de5-44c3-bde2-7c82e8c5891a\")> Amiens \n",
      "Successfully wrote data....\n",
      "<selenium.webdriver.remote.webelement.WebElement (session=\"9615e26ee1fdb2f4362b09b2516f559e\", element=\"2580b2a1-62c9-4125-b7bc-c5d4c062b033\")> Amiens\n",
      "Successfully wrote data....\n",
      "<selenium.webdriver.remote.webelement.WebElement (session=\"9615e26ee1fdb2f4362b09b2516f559e\", element=\"7966553d-b3ea-4693-b13d-d4b3be59bad5\")> Nice\n",
      "Successfully wrote data....\n",
      "<selenium.webdriver.remote.webelement.WebElement (session=\"9615e26ee1fdb2f4362b09b2516f559e\", element=\"a6bd8494-cddd-4c97-b9c7-7d37d4146700\")> Amiens (Fra)\n",
      "No Statistics for this game!!!\n",
      "Successfully wrote data....\n"
     ]
    }
   ],
   "source": [
    "for elem in ELEMENTS[:5]:\n",
    "    \n",
    "    time.sleep(3)\n",
    "#     DRIVER.execute_script(\"arguments[0].scrollIntoView(true);\", e)\n",
    "    print(elem, elem.text)\n",
    "#     action.move_to_element(e).click().perform()\n",
    "#     action.click(on_element=e)\n",
    "#     action.perform()\n",
    "#     get_stats_from_window(DRIVER, handle_number)\n",
    "#     e.click()\n",
    "\n",
    "    DRIVER.execute_script(\"arguments[0].scrollIntoView();\", elem)\n",
    "    DRIVER.execute_script(\"$(arguments[0]).click();\", elem)\n",
    "    \n",
    "    start_window = DRIVER.window_handles[0]\n",
    "\n",
    "    current_window = DRIVER.window_handles[-1]\n",
    "    get_stats_from_window(DRIVER, current_window)\n",
    "    print(f'Successfully wrote data....')\n",
    "    DRIVER.close() #closes the current window\n",
    "    DRIVER.switch_to.window(start_window)\n",
    "    \n",
    "    assert len(DRIVER.window_handles) == 1\n"
   ]
  },
  {
   "cell_type": "code",
   "execution_count": null,
   "metadata": {},
   "outputs": [],
   "source": [
    "# for i in ELEMENTS:\n",
    "#     print(i.location_once_scrolled_into_view, i.text)"
   ]
  },
  {
   "cell_type": "code",
   "execution_count": null,
   "metadata": {},
   "outputs": [],
   "source": [
    "# action.move_to_element_with_offset(ELEMENT, 0, 0)\n",
    "action.move_to_element(ELEMENT)\n",
    "action.click()\n",
    "action.perform()"
   ]
  },
  {
   "cell_type": "code",
   "execution_count": null,
   "metadata": {},
   "outputs": [],
   "source": [
    "DRIVER.close()"
   ]
  },
  {
   "cell_type": "code",
   "execution_count": null,
   "metadata": {},
   "outputs": [],
   "source": [
    "HANDLES = DRIVER.window_handles\n",
    "print(HANDLES)"
   ]
  },
  {
   "cell_type": "code",
   "execution_count": 14,
   "metadata": {},
   "outputs": [],
   "source": [
    "import pandas as pd"
   ]
  },
  {
   "cell_type": "code",
   "execution_count": 19,
   "metadata": {},
   "outputs": [
    {
     "data": {
      "text/html": [
       "<div>\n",
       "<style scoped>\n",
       "    .dataframe tbody tr th:only-of-type {\n",
       "        vertical-align: middle;\n",
       "    }\n",
       "\n",
       "    .dataframe tbody tr th {\n",
       "        vertical-align: top;\n",
       "    }\n",
       "\n",
       "    .dataframe thead th {\n",
       "        text-align: right;\n",
       "    }\n",
       "</style>\n",
       "<table border=\"1\" class=\"dataframe\">\n",
       "  <thead>\n",
       "    <tr style=\"text-align: right;\">\n",
       "      <th></th>\n",
       "      <th>Unnamed: 0</th>\n",
       "      <th>Toulouse 2-0 Amiens</th>\n",
       "    </tr>\n",
       "    <tr>\n",
       "      <th>31.08.2019 20:00</th>\n",
       "      <th></th>\n",
       "      <th></th>\n",
       "    </tr>\n",
       "  </thead>\n",
       "  <tbody>\n",
       "    <tr>\n",
       "      <th>Finished</th>\n",
       "      <td>NaN</td>\n",
       "      <td>Amiens 1-2 Nantes</td>\n",
       "    </tr>\n",
       "    <tr>\n",
       "      <th>24.08.2019 20:00</th>\n",
       "      <td>NaN</td>\n",
       "      <td>None</td>\n",
       "    </tr>\n",
       "    <tr>\n",
       "      <th>Finished</th>\n",
       "      <td>NaN</td>\n",
       "      <td>Amiens 1-0 Lille</td>\n",
       "    </tr>\n",
       "    <tr>\n",
       "      <th>17.08.2019 20:00</th>\n",
       "      <td>NaN</td>\n",
       "      <td>None</td>\n",
       "    </tr>\n",
       "    <tr>\n",
       "      <th>Finished</th>\n",
       "      <td>NaN</td>\n",
       "      <td>Nice 2-1 Amiens</td>\n",
       "    </tr>\n",
       "    <tr>\n",
       "      <th>10.08.2019 20:00</th>\n",
       "      <td>NaN</td>\n",
       "      <td>None</td>\n",
       "    </tr>\n",
       "    <tr>\n",
       "      <th>Finished</th>\n",
       "      <td>NaN</td>\n",
       "      <td>None</td>\n",
       "    </tr>\n",
       "  </tbody>\n",
       "</table>\n",
       "</div>"
      ],
      "text/plain": [
       "                  Unnamed: 0 Toulouse 2-0 Amiens\n",
       "31.08.2019 20:00                                \n",
       "Finished                 NaN   Amiens 1-2 Nantes\n",
       "24.08.2019 20:00         NaN                None\n",
       "Finished                 NaN    Amiens 1-0 Lille\n",
       "17.08.2019 20:00         NaN                None\n",
       "Finished                 NaN     Nice 2-1 Amiens\n",
       "10.08.2019 20:00         NaN                None\n",
       "Finished                 NaN                None"
      ]
     },
     "execution_count": 19,
     "metadata": {},
     "output_type": "execute_result"
    }
   ],
   "source": [
    "pd.read_csv('info.txt', engine='python', sep='-----')"
   ]
  },
  {
   "cell_type": "code",
   "execution_count": 23,
   "metadata": {},
   "outputs": [
    {
     "data": {
      "text/html": [
       "<div>\n",
       "<style scoped>\n",
       "    .dataframe tbody tr th:only-of-type {\n",
       "        vertical-align: middle;\n",
       "    }\n",
       "\n",
       "    .dataframe tbody tr th {\n",
       "        vertical-align: top;\n",
       "    }\n",
       "\n",
       "    .dataframe thead th {\n",
       "        text-align: right;\n",
       "    }\n",
       "</style>\n",
       "<table border=\"1\" class=\"dataframe\">\n",
       "  <thead>\n",
       "    <tr style=\"text-align: right;\">\n",
       "      <th></th>\n",
       "      <th>0</th>\n",
       "    </tr>\n",
       "  </thead>\n",
       "  <tbody>\n",
       "    <tr>\n",
       "      <th>0</th>\n",
       "      <td>-----43%</td>\n",
       "    </tr>\n",
       "    <tr>\n",
       "      <th>1</th>\n",
       "      <td>Ball Possession</td>\n",
       "    </tr>\n",
       "    <tr>\n",
       "      <th>2</th>\n",
       "      <td>57%</td>\n",
       "    </tr>\n",
       "    <tr>\n",
       "      <th>3</th>\n",
       "      <td>5</td>\n",
       "    </tr>\n",
       "    <tr>\n",
       "      <th>4</th>\n",
       "      <td>Goal Attempts</td>\n",
       "    </tr>\n",
       "  </tbody>\n",
       "</table>\n",
       "</div>"
      ],
      "text/plain": [
       "                 0\n",
       "0         -----43%\n",
       "1  Ball Possession\n",
       "2              57%\n",
       "3                5\n",
       "4    Goal Attempts"
      ]
     },
     "execution_count": 23,
     "metadata": {},
     "output_type": "execute_result"
    }
   ],
   "source": [
    "pd.read_csv('half.txt', header=None).head()"
   ]
  },
  {
   "cell_type": "code",
   "execution_count": 26,
   "metadata": {},
   "outputs": [],
   "source": [
    "# pd.read_csv('goal.txt')"
   ]
  },
  {
   "cell_type": "code",
   "execution_count": null,
   "metadata": {},
   "outputs": [],
   "source": []
  }
 ],
 "metadata": {
  "kernelspec": {
   "display_name": "Python 3",
   "language": "python",
   "name": "python3"
  },
  "language_info": {
   "codemirror_mode": {
    "name": "ipython",
    "version": 3
   },
   "file_extension": ".py",
   "mimetype": "text/x-python",
   "name": "python",
   "nbconvert_exporter": "python",
   "pygments_lexer": "ipython3",
   "version": "3.6.7"
  }
 },
 "nbformat": 4,
 "nbformat_minor": 2
}
