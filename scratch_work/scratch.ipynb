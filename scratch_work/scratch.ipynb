{
 "cells": [
  {
   "cell_type": "code",
   "execution_count": null,
   "metadata": {},
   "outputs": [],
   "source": [
    "from selenium import webdriver\n",
    "import time\n",
    "import numpy as np\n",
    "\n",
    "DRIVER = webdriver.Chrome('/Users/PaulWlodkowski/Documents/PythonWork/\\\n",
    "SPICED-Work/chromedriver/chromedriver')\n",
    "\n",
    "def get_stats_from_window(driver, handle_number):\n",
    "    driver.switch_to.window(handle_number)\n",
    "    new_link = driver.current_url\n",
    "    statistics1=new_link[:-7]+\"statistics;1\"\n",
    "    time.sleep(2)\n",
    "\n",
    "    try:\n",
    "        driver.get(statistics1)\n",
    "        time.sleep(2)\n",
    "        login_form=driver.find_element_by_xpath('//div[@id=\"tab-statistics-1-statistic\"]')\n",
    "    #    if login_form:\n",
    "        statistics1=login_form.text\n",
    "#         print(statistics1)\n",
    "        with open('half.txt', 'a') as f:\n",
    "            f.write('-----')\n",
    "            f.write(statistics1)\n",
    "            f.write('-----')\n",
    "\n",
    "        new_link = driver.current_url\n",
    "        statistics2=new_link[:-7]+\"statistics;0\"\n",
    "#         print(statistics2)\n",
    "        driver.get(statistics2)\n",
    "        time.sleep(2)\n",
    "        login_form=driver.find_element_by_xpath('//div[@id=\"tab-statistics-0-statistic\"]')\n",
    "        statistics2=login_form.text\n",
    "#         print(statistics2)\n",
    "        with open('end.txt', 'a') as f:\n",
    "            f.write('-----')\n",
    "            f.write(statistics2)\n",
    "            f.write('-----')\n",
    "\n",
    "        new_link = driver.current_url\n",
    "        goals=new_link[:-12]+\"summary\"\n",
    "#         print(goals)\n",
    "        time.sleep(2)\n",
    "        driver.get(goals)\n",
    "        time.sleep(2)\n",
    "        login_form=driver.find_element_by_xpath('//div[@id=\"summary-content\"]')\n",
    "        goals=login_form.text\n",
    "#         print(goals)\n",
    "        with open('goal.txt', 'a') as f:\n",
    "            f.write('-----')\n",
    "            f.write(goals)\n",
    "            f.write('-----')\n",
    "\n",
    "        new_link = driver.current_url\n",
    "        info=new_link[:-12]+\"summary\"\n",
    "#         print(info)\n",
    "        time.sleep(3)\n",
    "        driver.get(info)\n",
    "        time.sleep(3)\n",
    "        login_form=driver.find_element_by_xpath('//td[@id=\"flashscore_column\"]')\n",
    "        info=login_form.text\n",
    "#         print(info)\n",
    "        with open('info.txt', 'a') as f:\n",
    "            f.write('-----')\n",
    "            f.write(info)\n",
    "            f.write('-----')\n",
    "\n",
    "    except:\n",
    "        print(\"No Statistics for this game!!!\")"
   ]
  },
  {
   "cell_type": "code",
   "execution_count": null,
   "metadata": {},
   "outputs": [],
   "source": [
    "DRIVER.get(\"https://www.soccerstand.com/team/amiens-sc/lKkBAsxF/results/\")\n",
    "# LOCATION = ELEMENT.location\n",
    "\n",
    "time.sleep(2)\n",
    "action = webdriver.common.action_chains.ActionChains(DRIVER)\n",
    "# ELEMENT = DRIVER.find_element_by_class_name('basketball')\n",
    "# ELEMENT = DRIVER.find_element_by_class_name('padr')\n",
    "ELEMENTS = DRIVER.find_elements_by_class_name('padr')\n",
    "# ELEMENT = DRIVER.find_element_by_xpath('//td[@title=\"Click for match detail!\"]')\n",
    "# action.move_to_element(ELEMENT)\n",
    "print('Done')"
   ]
  },
  {
   "cell_type": "markdown",
   "metadata": {},
   "source": [
    "### Observation: it actually matter if the xpath is on the screen! otherwise the automated software wont be able to click it."
   ]
  },
  {
   "cell_type": "code",
   "execution_count": null,
   "metadata": {},
   "outputs": [],
   "source": [
    "# DRIVER.execute_script(\"arguments[0].scrollIntoView();\", ELEMENTS[0])\n",
    "# DRIVER.execute_script(\"$(arguments[0]).click();\", ELEMENTS[0])\n",
    "\n",
    "# print(f'There are {len(DRIVER.window_handles)} windows:')\n",
    "\n",
    "# start_window = DRIVER.window_handles[0]   \n",
    "# current_window = DRIVER.window_handles[-1]\n",
    "# print(f'Starting window (main page): {start_window}')\n",
    "# print(f'Current window: {current_window}')\n",
    "\n",
    "# # get_stats_from_window(DRIVER, current_window)\n",
    "\n",
    "# DRIVER.switch_to.window(start_window)\n",
    "# DRIVER.close() #closes the current window\n",
    "\n",
    "\n",
    "# print(f'There are {len(DRIVER.window_handles)} windows:')\n",
    "\n",
    "# start_window = DRIVER.window_handles[0]   \n",
    "# current_window = DRIVER.window_handles[-1]\n",
    "# print(f'Starting window (main page): {start_window}')\n",
    "# print(f'Current window: {current_window}')"
   ]
  },
  {
   "cell_type": "code",
   "execution_count": null,
   "metadata": {},
   "outputs": [],
   "source": [
    "for elem in ELEMENTS[:5]:\n",
    "    \n",
    "    time.sleep(3)\n",
    "#     DRIVER.execute_script(\"arguments[0].scrollIntoView(true);\", e)\n",
    "    print(elem, elem.text)\n",
    "#     action.move_to_element(e).click().perform()\n",
    "#     action.click(on_element=e)\n",
    "#     action.perform()\n",
    "#     get_stats_from_window(DRIVER, handle_number)\n",
    "#     e.click()\n",
    "\n",
    "    DRIVER.execute_script(\"arguments[0].scrollIntoView();\", elem)\n",
    "    DRIVER.execute_script(\"$(arguments[0]).click();\", elem)\n",
    "    \n",
    "    start_window = DRIVER.window_handles[0]\n",
    "\n",
    "    current_window = DRIVER.window_handles[-1]\n",
    "    get_stats_from_window(DRIVER, current_window)\n",
    "    print(f'Successfully wrote data....')\n",
    "    DRIVER.close() #closes the current window\n",
    "    DRIVER.switch_to.window(start_window)\n",
    "    \n",
    "    assert len(DRIVER.window_handles) == 1\n"
   ]
  },
  {
   "cell_type": "code",
   "execution_count": null,
   "metadata": {},
   "outputs": [],
   "source": [
    "# for i in ELEMENTS:\n",
    "#     print(i.location_once_scrolled_into_view, i.text)"
   ]
  },
  {
   "cell_type": "code",
   "execution_count": null,
   "metadata": {},
   "outputs": [],
   "source": [
    "# action.move_to_element_with_offset(ELEMENT, 0, 0)\n",
    "action.move_to_element(ELEMENT)\n",
    "action.click()\n",
    "action.perform()"
   ]
  },
  {
   "cell_type": "code",
   "execution_count": null,
   "metadata": {},
   "outputs": [],
   "source": [
    "DRIVER.close()"
   ]
  },
  {
   "cell_type": "code",
   "execution_count": null,
   "metadata": {},
   "outputs": [],
   "source": [
    "HANDLES = DRIVER.window_handles\n",
    "print(HANDLES)"
   ]
  },
  {
   "cell_type": "code",
   "execution_count": null,
   "metadata": {},
   "outputs": [],
   "source": [
    "import pandas as pd"
   ]
  },
  {
   "cell_type": "code",
   "execution_count": null,
   "metadata": {},
   "outputs": [],
   "source": [
    "pd.read_csv('info.txt', engine='python', sep='-----')"
   ]
  },
  {
   "cell_type": "code",
   "execution_count": null,
   "metadata": {},
   "outputs": [],
   "source": [
    "pd.read_csv('half.txt', header=None).head()"
   ]
  },
  {
   "cell_type": "code",
   "execution_count": null,
   "metadata": {},
   "outputs": [],
   "source": [
    "# pd.read_csv('goal.txt')"
   ]
  },
  {
   "cell_type": "code",
   "execution_count": null,
   "metadata": {},
   "outputs": [],
   "source": []
  }
 ],
 "metadata": {
  "kernelspec": {
   "display_name": "Python 3",
   "language": "python",
   "name": "python3"
  },
  "language_info": {
   "codemirror_mode": {
    "name": "ipython",
    "version": 3
   },
   "file_extension": ".py",
   "mimetype": "text/x-python",
   "name": "python",
   "nbconvert_exporter": "python",
   "pygments_lexer": "ipython3",
   "version": "3.6.7"
  }
 },
 "nbformat": 4,
 "nbformat_minor": 2
}
