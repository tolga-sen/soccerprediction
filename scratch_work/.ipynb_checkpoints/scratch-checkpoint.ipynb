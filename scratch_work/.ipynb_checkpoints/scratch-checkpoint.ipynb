{
 "cells": [
  {
   "cell_type": "code",
   "execution_count": 61,
   "metadata": {},
   "outputs": [],
   "source": [
    "from selenium import webdriver\n",
    "import time\n",
    "import numpy as np\n",
    "\n",
    "DRIVER = webdriver.Chrome()\n",
    "\n",
    "def get_stats_from_window(driver, handle_number):\n",
    "    driver.switch_to.window(handle_number)\n",
    "    new_link = driver.current_url\n",
    "    statistics1=new_link[:-7]+\"statistics;1\"\n",
    "    time.sleep(2)\n",
    "\n",
    "    try:\n",
    "        driver.get(statistics1)\n",
    "        time.sleep(2)\n",
    "        login_form=driver.find_element_by_xpath('//div[@id=\"tab-statistics-1-statistic\"]')\n",
    "    #    if login_form:\n",
    "        statistics1=login_form.text\n",
    "#         print(statistics1)\n",
    "        with open('half.txt', 'a') as f:\n",
    "            f.write('-----')\n",
    "            f.write(statistics1)\n",
    "            f.write('-----')\n",
    "\n",
    "        new_link = driver.current_url\n",
    "        statistics2=new_link[:-7]+\"statistics;0\"\n",
    "#         print(statistics2)\n",
    "        driver.get(statistics2)\n",
    "        time.sleep(2)\n",
    "        login_form=driver.find_element_by_xpath('//div[@id=\"tab-statistics-0-statistic\"]')\n",
    "        statistics2=login_form.text\n",
    "#         print(statistics2)\n",
    "        with open('end.txt', 'a') as f:\n",
    "            f.write('-----')\n",
    "            f.write(statistics2)\n",
    "            f.write('-----')\n",
    "\n",
    "        new_link = driver.current_url\n",
    "        goals=new_link[:-12]+\"summary\"\n",
    "#         print(goals)\n",
    "        time.sleep(2)\n",
    "        driver.get(goals)\n",
    "        time.sleep(2)\n",
    "        login_form=driver.find_element_by_xpath('//div[@id=\"summary-content\"]')\n",
    "        goals=login_form.text\n",
    "#         print(goals)\n",
    "        with open('goal.txt', 'a') as f:\n",
    "            f.write('-----')\n",
    "            f.write(goals)\n",
    "            f.write('-----')\n",
    "\n",
    "        new_link = driver.current_url\n",
    "        info=new_link[:-12]+\"summary\"\n",
    "#         print(info)\n",
    "        time.sleep(3)\n",
    "        driver.get(info)\n",
    "        time.sleep(3)\n",
    "        login_form=driver.find_element_by_xpath('//td[@id=\"flashscore_column\"]')\n",
    "        info=login_form.text\n",
    "#         print(info)\n",
    "        with open('info.txt', 'a') as f:\n",
    "            f.write('-----')\n",
    "            f.write(info)\n",
    "            f.write('-----')\n",
    "\n",
    "    except:\n",
    "        print(\"No Statistics for this game!!!\")"
   ]
  },
  {
   "cell_type": "markdown",
   "metadata": {},
   "source": [
    "---"
   ]
  },
  {
   "cell_type": "code",
   "execution_count": 62,
   "metadata": {},
   "outputs": [],
   "source": [
    "# DRIVER.get(\"https://www.soccerstand.com/match/rsmTAHhE/#match-summary\")\n",
    "DRIVER.get(\"https://www.soccerstand.com/match/8jTixcnk/#match-summary\")"
   ]
  },
  {
   "cell_type": "code",
   "execution_count": 64,
   "metadata": {},
   "outputs": [
    {
     "name": "stdout",
     "output_type": "stream",
     "text": [
      "TESTING!!!:Nice-Amiens\n",
      "\n",
      "\n"
     ]
    }
   ],
   "source": [
    "game_info1 = DRIVER.find_elements_by_xpath('//td[@class=\"tname-home logo-enable\"]')\n",
    "game_info2 = DRIVER.find_elements_by_xpath('//td[@class=\"tname-away logo-enable\"]')\n",
    "#    game_info = '-'.join([i.text for i in game_info])\n",
    "game_info1 = '-'.join([i.text for i in game_info1])\n",
    "game_info2 = '-'.join([i.text for i in game_info2])\n",
    "game_info = game_info1+'-'+game_info2\n",
    "#print(f'TESTING!!!:{game_info3}\\n\\n')\n",
    "print(f'TESTING!!!:{game_info}\\n\\n')"
   ]
  },
  {
   "cell_type": "code",
   "execution_count": 56,
   "metadata": {},
   "outputs": [
    {
     "ename": "WebDriverException",
     "evalue": "Message: chrome not reachable\n  (Session info: chrome=76.0.3809.100)\n",
     "output_type": "error",
     "traceback": [
      "\u001b[0;31m---------------------------------------------------------------------------\u001b[0m",
      "\u001b[0;31mWebDriverException\u001b[0m                        Traceback (most recent call last)",
      "\u001b[0;32m<ipython-input-56-f265e872a3b0>\u001b[0m in \u001b[0;36m<module>\u001b[0;34m\u001b[0m\n\u001b[0;32m----> 1\u001b[0;31m \u001b[0mgame_info1\u001b[0m \u001b[0;34m=\u001b[0m \u001b[0mDRIVER\u001b[0m\u001b[0;34m.\u001b[0m\u001b[0mfind_elements_by_xpath\u001b[0m\u001b[0;34m(\u001b[0m\u001b[0;34m'//span[@class=\"tname\"]'\u001b[0m\u001b[0;34m)\u001b[0m\u001b[0;34m\u001b[0m\u001b[0;34m\u001b[0m\u001b[0m\n\u001b[0m\u001b[1;32m      2\u001b[0m \u001b[0mgame_info2\u001b[0m \u001b[0;34m=\u001b[0m \u001b[0mDRIVER\u001b[0m\u001b[0;34m.\u001b[0m\u001b[0mfind_elements_by_xpath\u001b[0m\u001b[0;34m(\u001b[0m\u001b[0;34m'//span[@class=\"tname\"]'\u001b[0m\u001b[0;34m)\u001b[0m\u001b[0;34m\u001b[0m\u001b[0;34m\u001b[0m\u001b[0m\n\u001b[1;32m      3\u001b[0m \u001b[0;31m#    game_info = '-'.join([i.text for i in game_info])\u001b[0m\u001b[0;34m\u001b[0m\u001b[0;34m\u001b[0m\u001b[0;34m\u001b[0m\u001b[0m\n\u001b[1;32m      4\u001b[0m \u001b[0mgame_info1\u001b[0m \u001b[0;34m=\u001b[0m \u001b[0;34m'-'\u001b[0m\u001b[0;34m.\u001b[0m\u001b[0mjoin\u001b[0m\u001b[0;34m(\u001b[0m\u001b[0;34m[\u001b[0m\u001b[0mi\u001b[0m\u001b[0;34m.\u001b[0m\u001b[0mtext\u001b[0m \u001b[0;32mfor\u001b[0m \u001b[0mi\u001b[0m \u001b[0;32min\u001b[0m \u001b[0mgame_info1\u001b[0m\u001b[0;34m]\u001b[0m\u001b[0;34m)\u001b[0m\u001b[0;34m\u001b[0m\u001b[0;34m\u001b[0m\u001b[0m\n\u001b[1;32m      5\u001b[0m \u001b[0mgame_info2\u001b[0m \u001b[0;34m=\u001b[0m \u001b[0;34m'-'\u001b[0m\u001b[0;34m.\u001b[0m\u001b[0mjoin\u001b[0m\u001b[0;34m(\u001b[0m\u001b[0;34m[\u001b[0m\u001b[0mi\u001b[0m\u001b[0;34m.\u001b[0m\u001b[0mtext\u001b[0m \u001b[0;32mfor\u001b[0m \u001b[0mi\u001b[0m \u001b[0;32min\u001b[0m \u001b[0mgame_info2\u001b[0m\u001b[0;34m]\u001b[0m\u001b[0;34m)\u001b[0m\u001b[0;34m\u001b[0m\u001b[0;34m\u001b[0m\u001b[0m\n",
      "\u001b[0;32m~/anaconda3/lib/python3.7/site-packages/selenium/webdriver/remote/webdriver.py\u001b[0m in \u001b[0;36mfind_elements_by_xpath\u001b[0;34m(self, xpath)\u001b[0m\n\u001b[1;32m    408\u001b[0m             \u001b[0melements\u001b[0m \u001b[0;34m=\u001b[0m \u001b[0mdriver\u001b[0m\u001b[0;34m.\u001b[0m\u001b[0mfind_elements_by_xpath\u001b[0m\u001b[0;34m(\u001b[0m\u001b[0;34m\"//div[contains(@class, 'foo')]\"\u001b[0m\u001b[0;34m)\u001b[0m\u001b[0;34m\u001b[0m\u001b[0;34m\u001b[0m\u001b[0m\n\u001b[1;32m    409\u001b[0m         \"\"\"\n\u001b[0;32m--> 410\u001b[0;31m         \u001b[0;32mreturn\u001b[0m \u001b[0mself\u001b[0m\u001b[0;34m.\u001b[0m\u001b[0mfind_elements\u001b[0m\u001b[0;34m(\u001b[0m\u001b[0mby\u001b[0m\u001b[0;34m=\u001b[0m\u001b[0mBy\u001b[0m\u001b[0;34m.\u001b[0m\u001b[0mXPATH\u001b[0m\u001b[0;34m,\u001b[0m \u001b[0mvalue\u001b[0m\u001b[0;34m=\u001b[0m\u001b[0mxpath\u001b[0m\u001b[0;34m)\u001b[0m\u001b[0;34m\u001b[0m\u001b[0;34m\u001b[0m\u001b[0m\n\u001b[0m\u001b[1;32m    411\u001b[0m \u001b[0;34m\u001b[0m\u001b[0m\n\u001b[1;32m    412\u001b[0m     \u001b[0;32mdef\u001b[0m \u001b[0mfind_element_by_link_text\u001b[0m\u001b[0;34m(\u001b[0m\u001b[0mself\u001b[0m\u001b[0;34m,\u001b[0m \u001b[0mlink_text\u001b[0m\u001b[0;34m)\u001b[0m\u001b[0;34m:\u001b[0m\u001b[0;34m\u001b[0m\u001b[0;34m\u001b[0m\u001b[0m\n",
      "\u001b[0;32m~/anaconda3/lib/python3.7/site-packages/selenium/webdriver/remote/webdriver.py\u001b[0m in \u001b[0;36mfind_elements\u001b[0;34m(self, by, value)\u001b[0m\n\u001b[1;32m   1005\u001b[0m         return self.execute(Command.FIND_ELEMENTS, {\n\u001b[1;32m   1006\u001b[0m             \u001b[0;34m'using'\u001b[0m\u001b[0;34m:\u001b[0m \u001b[0mby\u001b[0m\u001b[0;34m,\u001b[0m\u001b[0;34m\u001b[0m\u001b[0;34m\u001b[0m\u001b[0m\n\u001b[0;32m-> 1007\u001b[0;31m             'value': value})['value'] or []\n\u001b[0m\u001b[1;32m   1008\u001b[0m \u001b[0;34m\u001b[0m\u001b[0m\n\u001b[1;32m   1009\u001b[0m     \u001b[0;34m@\u001b[0m\u001b[0mproperty\u001b[0m\u001b[0;34m\u001b[0m\u001b[0;34m\u001b[0m\u001b[0m\n",
      "\u001b[0;32m~/anaconda3/lib/python3.7/site-packages/selenium/webdriver/remote/webdriver.py\u001b[0m in \u001b[0;36mexecute\u001b[0;34m(self, driver_command, params)\u001b[0m\n\u001b[1;32m    319\u001b[0m         \u001b[0mresponse\u001b[0m \u001b[0;34m=\u001b[0m \u001b[0mself\u001b[0m\u001b[0;34m.\u001b[0m\u001b[0mcommand_executor\u001b[0m\u001b[0;34m.\u001b[0m\u001b[0mexecute\u001b[0m\u001b[0;34m(\u001b[0m\u001b[0mdriver_command\u001b[0m\u001b[0;34m,\u001b[0m \u001b[0mparams\u001b[0m\u001b[0;34m)\u001b[0m\u001b[0;34m\u001b[0m\u001b[0;34m\u001b[0m\u001b[0m\n\u001b[1;32m    320\u001b[0m         \u001b[0;32mif\u001b[0m \u001b[0mresponse\u001b[0m\u001b[0;34m:\u001b[0m\u001b[0;34m\u001b[0m\u001b[0;34m\u001b[0m\u001b[0m\n\u001b[0;32m--> 321\u001b[0;31m             \u001b[0mself\u001b[0m\u001b[0;34m.\u001b[0m\u001b[0merror_handler\u001b[0m\u001b[0;34m.\u001b[0m\u001b[0mcheck_response\u001b[0m\u001b[0;34m(\u001b[0m\u001b[0mresponse\u001b[0m\u001b[0;34m)\u001b[0m\u001b[0;34m\u001b[0m\u001b[0;34m\u001b[0m\u001b[0m\n\u001b[0m\u001b[1;32m    322\u001b[0m             response['value'] = self._unwrap_value(\n\u001b[1;32m    323\u001b[0m                 response.get('value', None))\n",
      "\u001b[0;32m~/anaconda3/lib/python3.7/site-packages/selenium/webdriver/remote/errorhandler.py\u001b[0m in \u001b[0;36mcheck_response\u001b[0;34m(self, response)\u001b[0m\n\u001b[1;32m    240\u001b[0m                 \u001b[0malert_text\u001b[0m \u001b[0;34m=\u001b[0m \u001b[0mvalue\u001b[0m\u001b[0;34m[\u001b[0m\u001b[0;34m'alert'\u001b[0m\u001b[0;34m]\u001b[0m\u001b[0;34m.\u001b[0m\u001b[0mget\u001b[0m\u001b[0;34m(\u001b[0m\u001b[0;34m'text'\u001b[0m\u001b[0;34m)\u001b[0m\u001b[0;34m\u001b[0m\u001b[0;34m\u001b[0m\u001b[0m\n\u001b[1;32m    241\u001b[0m             \u001b[0;32mraise\u001b[0m \u001b[0mexception_class\u001b[0m\u001b[0;34m(\u001b[0m\u001b[0mmessage\u001b[0m\u001b[0;34m,\u001b[0m \u001b[0mscreen\u001b[0m\u001b[0;34m,\u001b[0m \u001b[0mstacktrace\u001b[0m\u001b[0;34m,\u001b[0m \u001b[0malert_text\u001b[0m\u001b[0;34m)\u001b[0m\u001b[0;34m\u001b[0m\u001b[0;34m\u001b[0m\u001b[0m\n\u001b[0;32m--> 242\u001b[0;31m         \u001b[0;32mraise\u001b[0m \u001b[0mexception_class\u001b[0m\u001b[0;34m(\u001b[0m\u001b[0mmessage\u001b[0m\u001b[0;34m,\u001b[0m \u001b[0mscreen\u001b[0m\u001b[0;34m,\u001b[0m \u001b[0mstacktrace\u001b[0m\u001b[0;34m)\u001b[0m\u001b[0;34m\u001b[0m\u001b[0;34m\u001b[0m\u001b[0m\n\u001b[0m\u001b[1;32m    243\u001b[0m \u001b[0;34m\u001b[0m\u001b[0m\n\u001b[1;32m    244\u001b[0m     \u001b[0;32mdef\u001b[0m \u001b[0m_value_or_default\u001b[0m\u001b[0;34m(\u001b[0m\u001b[0mself\u001b[0m\u001b[0;34m,\u001b[0m \u001b[0mobj\u001b[0m\u001b[0;34m,\u001b[0m \u001b[0mkey\u001b[0m\u001b[0;34m,\u001b[0m \u001b[0mdefault\u001b[0m\u001b[0;34m)\u001b[0m\u001b[0;34m:\u001b[0m\u001b[0;34m\u001b[0m\u001b[0;34m\u001b[0m\u001b[0m\n",
      "\u001b[0;31mWebDriverException\u001b[0m: Message: chrome not reachable\n  (Session info: chrome=76.0.3809.100)\n"
     ]
    }
   ],
   "source": []
  },
  {
   "cell_type": "code",
   "execution_count": 16,
   "metadata": {},
   "outputs": [
    {
     "data": {
      "text/plain": [
       "'Nice'"
      ]
     },
     "execution_count": 16,
     "metadata": {},
     "output_type": "execute_result"
    }
   ],
   "source": [
    "game_info3"
   ]
  },
  {
   "cell_type": "code",
   "execution_count": 9,
   "metadata": {},
   "outputs": [
    {
     "ename": "NameError",
     "evalue": "name 'game_info' is not defined",
     "output_type": "error",
     "traceback": [
      "\u001b[0;31m---------------------------------------------------------------------------\u001b[0m",
      "\u001b[0;31mNameError\u001b[0m                                 Traceback (most recent call last)",
      "\u001b[0;32m<ipython-input-9-6fd50096fc27>\u001b[0m in \u001b[0;36m<module>\u001b[0;34m\u001b[0m\n\u001b[0;32m----> 1\u001b[0;31m \u001b[0mgame_info3\u001b[0m \u001b[0;34m=\u001b[0m \u001b[0;34m'-'\u001b[0m\u001b[0;34m.\u001b[0m\u001b[0mjoin\u001b[0m\u001b[0;34m(\u001b[0m\u001b[0mgame_info\u001b[0m\u001b[0;34m.\u001b[0m\u001b[0msplit\u001b[0m\u001b[0;34m(\u001b[0m\u001b[0;34m'\\n'\u001b[0m\u001b[0;34m)\u001b[0m\u001b[0;34m[\u001b[0m\u001b[0;36m0\u001b[0m\u001b[0;34m]\u001b[0m\u001b[0;34m.\u001b[0m\u001b[0msplit\u001b[0m\u001b[0;34m(\u001b[0m\u001b[0;34m)\u001b[0m\u001b[0;34m[\u001b[0m\u001b[0;34m:\u001b[0m\u001b[0;34m:\u001b[0m\u001b[0;36m2\u001b[0m\u001b[0;34m]\u001b[0m\u001b[0;34m)\u001b[0m\u001b[0;34m\u001b[0m\u001b[0;34m\u001b[0m\u001b[0m\n\u001b[0m",
      "\u001b[0;31mNameError\u001b[0m: name 'game_info' is not defined"
     ]
    }
   ],
   "source": [
    "game_info3 = '-'.join(game_info.split('\\n')[0].split()[::2])"
   ]
  },
  {
   "cell_type": "code",
   "execution_count": 10,
   "metadata": {},
   "outputs": [
    {
     "data": {
      "text/plain": [
       "'Nice-Amiens-Nice-Amiens'"
      ]
     },
     "execution_count": 10,
     "metadata": {},
     "output_type": "execute_result"
    }
   ],
   "source": [
    "game_info3"
   ]
  },
  {
   "cell_type": "markdown",
   "metadata": {},
   "source": [
    "---"
   ]
  },
  {
   "cell_type": "code",
   "execution_count": 11,
   "metadata": {},
   "outputs": [
    {
     "name": "stdout",
     "output_type": "stream",
     "text": [
      "Done\n"
     ]
    }
   ],
   "source": [
    "DRIVER.get(\"https://www.soccerstand.com/team/amiens-sc/lKkBAsxF/results/\")\n",
    "\n",
    "# LOCATION = ELEMENT.location\n",
    "\n",
    "time.sleep(2)\n",
    "action = webdriver.common.action_chains.ActionChains(DRIVER)\n",
    "# ELEMENT = DRIVER.find_element_by_class_name('basketball')\n",
    "# ELEMENT = DRIVER.find_element_by_class_name('padr')\n",
    "ELEMENTS = DRIVER.find_elements_by_class_name('padr')\n",
    "ELEMENTS2 = DRIVER.find_elements_by_class_name('padl')\n",
    "# ELEMENT = DRIVER.find_element_by_xpath('//td[@title=\"Click for match detail!\"]')\n",
    "# action.move_to_element(ELEMENT)\n",
    "print('Done')"
   ]
  },
  {
   "cell_type": "code",
   "execution_count": 12,
   "metadata": {},
   "outputs": [
    {
     "name": "stdout",
     "output_type": "stream",
     "text": [
      "Toulouse Amiens\n",
      "Amiens  Nantes\n",
      "Amiens Lille \n",
      "Nice Amiens \n",
      "Amiens (Fra) Leganes (Esp)\n",
      "Metz (Fra) Amiens (Fra)\n",
      "Hull (Eng) Amiens (Fra)\n",
      "Valenciennes (Fra) Amiens (Fra) \n",
      "Boulogne (Fra) Amiens (Fra)\n",
      "Amiens Guingamp\n",
      "Monaco Amiens\n",
      "Amiens Toulouse\n",
      "Montpellier Amiens\n",
      "Amiens Strasbourg\n",
      "Nantes Amiens\n",
      "Dijon Amiens \n",
      "Amiens  St Etienne\n",
      "Amiens Bordeaux\n",
      "Angers Amiens\n",
      "Amiens  Nimes\n",
      "Reims Amiens\n",
      "Amiens Nice\n",
      "Marseille Amiens\n",
      "Amiens Caen\n",
      "Rennes Amiens\n",
      "Amiens Lyon\n",
      "Amiens Lyon  \n",
      "Lille Amiens\n",
      "Amiens  Paris SG\n",
      "Amiens Angers\n",
      "Amiens  Valenciennes\n",
      "Bordeaux Amiens\n",
      "Amiens  Lyon \n",
      "Guingamp  Amiens\n",
      "Amiens  Monaco\n",
      "Nimes Amiens\n",
      "Amiens Marseille\n",
      "Toulouse Amiens\n",
      "Nice Amiens\n",
      "Metz Amiens \n",
      "Amiens Nantes\n",
      "Paris SG Amiens\n",
      "Amiens Dijon\n"
     ]
    }
   ],
   "source": [
    "for home,away in zip(ELEMENTS, ELEMENTS2):\n",
    "    print(home.text, away.text)"
   ]
  },
  {
   "cell_type": "markdown",
   "metadata": {},
   "source": [
    "### Observation: it actually matter if the xpath is on the screen! otherwise the automated software wont be able to click it."
   ]
  },
  {
   "cell_type": "code",
   "execution_count": null,
   "metadata": {},
   "outputs": [],
   "source": [
    "# DRIVER.execute_script(\"arguments[0].scrollIntoView();\", ELEMENTS[0])\n",
    "# DRIVER.execute_script(\"$(arguments[0]).click();\", ELEMENTS[0])\n",
    "\n",
    "# print(f'There are {len(DRIVER.window_handles)} windows:')\n",
    "\n",
    "# start_window = DRIVER.window_handles[0]   \n",
    "# current_window = DRIVER.window_handles[-1]\n",
    "# print(f'Starting window (main page): {start_window}')\n",
    "# print(f'Current window: {current_window}')\n",
    "\n",
    "# # get_stats_from_window(DRIVER, current_window)\n",
    "\n",
    "# DRIVER.switch_to.window(start_window)\n",
    "# DRIVER.close() #closes the current window\n",
    "\n",
    "\n",
    "# print(f'There are {len(DRIVER.window_handles)} windows:')\n",
    "\n",
    "# start_window = DRIVER.window_handles[0]   \n",
    "# current_window = DRIVER.window_handles[-1]\n",
    "# print(f'Starting window (main page): {start_window}')\n",
    "# print(f'Current window: {current_window}')"
   ]
  },
  {
   "cell_type": "code",
   "execution_count": null,
   "metadata": {},
   "outputs": [],
   "source": [
    "for elem in ELEMENTS[:5]:\n",
    "    \n",
    "    time.sleep(3)\n",
    "#     DRIVER.execute_script(\"arguments[0].scrollIntoView(true);\", e)\n",
    "    print(elem, elem.text)\n",
    "#     action.move_to_element(e).click().perform()\n",
    "#     action.click(on_element=e)\n",
    "#     action.perform()\n",
    "#     get_stats_from_window(DRIVER, handle_number)\n",
    "#     e.click()\n",
    "\n",
    "    DRIVER.execute_script(\"arguments[0].scrollIntoView();\", elem)\n",
    "    DRIVER.execute_script(\"$(arguments[0]).click();\", elem)\n",
    "    \n",
    "    start_window = DRIVER.window_handles[0]\n",
    "\n",
    "    current_window = DRIVER.window_handles[-1]\n",
    "    get_stats_from_window(DRIVER, current_window)\n",
    "    print(f'Successfully wrote data....')\n",
    "    DRIVER.close() #closes the current window\n",
    "    DRIVER.switch_to.window(start_window)\n",
    "    \n",
    "    assert len(DRIVER.window_handles) == 1\n"
   ]
  },
  {
   "cell_type": "code",
   "execution_count": null,
   "metadata": {},
   "outputs": [],
   "source": [
    "# for i in ELEMENTS:\n",
    "#     print(i.location_once_scrolled_into_view, i.text)"
   ]
  },
  {
   "cell_type": "code",
   "execution_count": null,
   "metadata": {},
   "outputs": [],
   "source": [
    "# action.move_to_element_with_offset(ELEMENT, 0, 0)\n",
    "action.move_to_element(ELEMENT)\n",
    "action.click()\n",
    "action.perform()"
   ]
  },
  {
   "cell_type": "code",
   "execution_count": null,
   "metadata": {},
   "outputs": [],
   "source": [
    "DRIVER.close()"
   ]
  },
  {
   "cell_type": "code",
   "execution_count": null,
   "metadata": {},
   "outputs": [],
   "source": [
    "HANDLES = DRIVER.window_handles\n",
    "print(HANDLES)"
   ]
  },
  {
   "cell_type": "code",
   "execution_count": null,
   "metadata": {},
   "outputs": [],
   "source": [
    "import pandas as pd"
   ]
  },
  {
   "cell_type": "code",
   "execution_count": null,
   "metadata": {},
   "outputs": [],
   "source": [
    "pd.read_csv('info.txt', engine='python', sep='-----')"
   ]
  },
  {
   "cell_type": "code",
   "execution_count": null,
   "metadata": {},
   "outputs": [],
   "source": [
    "pd.read_csv('half.txt', header=None).head()"
   ]
  },
  {
   "cell_type": "code",
   "execution_count": null,
   "metadata": {},
   "outputs": [],
   "source": [
    "# pd.read_csv('goal.txt')"
   ]
  },
  {
   "cell_type": "code",
   "execution_count": null,
   "metadata": {},
   "outputs": [],
   "source": []
  }
 ],
 "metadata": {
  "kernelspec": {
   "display_name": "Python 3",
   "language": "python",
   "name": "python3"
  },
  "language_info": {
   "codemirror_mode": {
    "name": "ipython",
    "version": 3
   },
   "file_extension": ".py",
   "mimetype": "text/x-python",
   "name": "python",
   "nbconvert_exporter": "python",
   "pygments_lexer": "ipython3",
   "version": "3.7.3"
  }
 },
 "nbformat": 4,
 "nbformat_minor": 2
}
